{
 "cells": [
  {
   "cell_type": "code",
   "execution_count": 2,
   "id": "e85e8364",
   "metadata": {},
   "outputs": [],
   "source": [
    "import dlib\n",
    "import cv2\n",
    "detector = dlib.get_frontal_face_detector()\n",
    "predictor = dlib.shape_predictor(\"code/shape_predictor_68_face_landmarks.dat\")\n",
    "img_path = \"example/harry.jpg\"\n",
    "img = cv2.imread(img_path)"
   ]
  },
  {
   "cell_type": "code",
   "execution_count": 3,
   "id": "099d54df",
   "metadata": {},
   "outputs": [],
   "source": [
    "dets = detector(img, 1)"
   ]
  },
  {
   "cell_type": "code",
   "execution_count": 5,
   "id": "4adf33f0",
   "metadata": {},
   "outputs": [
    {
     "name": "stdout",
     "output_type": "stream",
     "text": [
      "rectangles[[(860, 415) (1083, 638)]]\n"
     ]
    }
   ],
   "source": [
    "print(dets)"
   ]
  },
  {
   "cell_type": "code",
   "execution_count": 6,
   "id": "752e916d",
   "metadata": {},
   "outputs": [],
   "source": [
    "item = predictor(img, dets[0]).parts()"
   ]
  },
  {
   "cell_type": "code",
   "execution_count": 15,
   "id": "bcbe9535",
   "metadata": {},
   "outputs": [
    {
     "name": "stdout",
     "output_type": "stream",
     "text": [
      "[(860, 415) (1083, 638)]\n",
      "\n",
      "\n"
     ]
    }
   ],
   "source": [
    "for detection in dets:\n",
    "    print(detection)\n",
    "    print(\"\\n\")\n",
    "#     try:\n",
    "#         face_landmarks = [(item.x, item.y) for item in self.predictor(img, detection).parts()]\n",
    "        \n",
    "#         yield face_landmarks\n",
    "#     except:\n",
    "#         print(\"\\033[1;41mException in get_landmarks()!\\033[0m\")"
   ]
  },
  {
   "cell_type": "code",
   "execution_count": 38,
   "id": "7cb344fa",
   "metadata": {},
   "outputs": [
    {
     "name": "stdout",
     "output_type": "stream",
     "text": [
      "[(895, 471), (895, 495), (897, 519), (902, 543), (908, 568), (919, 593), (932, 614), (950, 629), (973, 634), (999, 632), (1023, 618), (1043, 600), (1058, 579), (1068, 556), (1074, 530), (1078, 504), (1080, 478), (897, 455), (907, 442), (924, 442), (941, 446), (958, 454), (989, 456), (1008, 449), (1028, 447), (1047, 450), (1061, 462), (974, 479), (972, 498), (971, 516), (970, 535), (953, 543), (961, 547), (971, 551), (983, 547), (994, 542), (916, 477), (925, 470), (940, 470), (951, 480), (938, 484), (924, 483), (1003, 481), (1015, 474), (1029, 474), (1038, 482), (1029, 487), (1015, 486), (936, 576), (949, 570), (961, 567), (972, 571), (982, 568), (996, 571), (1008, 577), (995, 583), (983, 587), (971, 588), (960, 587), (948, 584), (942, 576), (961, 575), (972, 576), (983, 575), (1002, 577), (982, 575), (971, 577), (960, 575)]\n"
     ]
    }
   ],
   "source": [
    "face_landmarks = [(item.x, item.y) for item in predictor(img, dets[0]).parts()]\n",
    "print(face_landmarks)"
   ]
  },
  {
   "cell_type": "code",
   "execution_count": 30,
   "id": "9d8aa565",
   "metadata": {},
   "outputs": [],
   "source": [
    "class LandmarksDetector:\n",
    "    def __init__(self):\n",
    "        self.detector = dlib.get_frontal_face_detector()\n",
    "        self.predictor = dlib.shape_predictor(\"code/shape_predictor_68_face_landmarks.dat\")\n",
    "\n",
    "    def get_landmarks(self, image):\n",
    "        img = cv2.imread(image)\n",
    "        dets = self.detector(img, 1)\n",
    "\n",
    "        try:\n",
    "            face_landmarks = [(item.x, item.y) for item in self.predictor(img, dets[0]).parts()]\n",
    "            yield face_landmarks\n",
    "        except:\n",
    "            print(\"\\033[1;41mException in get_landmarks()!\\033[0m\")"
   ]
  },
  {
   "cell_type": "code",
   "execution_count": 26,
   "id": "a8b3bee1",
   "metadata": {},
   "outputs": [
    {
     "name": "stdout",
     "output_type": "stream",
     "text": [
      "68\n"
     ]
    }
   ],
   "source": [
    "print(len(face_landmarks))"
   ]
  },
  {
   "cell_type": "code",
   "execution_count": 31,
   "id": "ee0ba8bf",
   "metadata": {},
   "outputs": [],
   "source": [
    "landmarks_detector = LandmarksDetector()"
   ]
  },
  {
   "cell_type": "code",
   "execution_count": 55,
   "id": "2d114015",
   "metadata": {},
   "outputs": [],
   "source": [
    "item = landmarks_detector.get_landmarks(\"example/harry.jpg\")"
   ]
  },
  {
   "cell_type": "code",
   "execution_count": 56,
   "id": "aa9fcbe2",
   "metadata": {},
   "outputs": [
    {
     "name": "stdout",
     "output_type": "stream",
     "text": [
      "0\n",
      "[(895, 471), (895, 495), (897, 519), (902, 543), (908, 568), (919, 593), (932, 614), (950, 629), (973, 634), (999, 632), (1023, 618), (1043, 600), (1058, 579), (1068, 556), (1074, 530), (1078, 504), (1080, 478), (897, 455), (907, 442), (924, 442), (941, 446), (958, 454), (989, 456), (1008, 449), (1028, 447), (1047, 450), (1061, 462), (974, 479), (972, 498), (971, 516), (970, 535), (953, 543), (961, 547), (971, 551), (983, 547), (994, 542), (916, 477), (925, 470), (940, 470), (951, 480), (938, 484), (924, 483), (1003, 481), (1015, 474), (1029, 474), (1038, 482), (1029, 487), (1015, 486), (936, 576), (949, 570), (961, 567), (972, 571), (982, 568), (996, 571), (1008, 577), (995, 583), (983, 587), (971, 588), (960, 587), (948, 584), (942, 576), (961, 575), (972, 576), (983, 575), (1002, 577), (982, 575), (971, 577), (960, 575)]\n"
     ]
    }
   ],
   "source": [
    "i = 0\n",
    "for it in item:\n",
    "    print(i)\n",
    "    print(it)\n",
    "    i += 1"
   ]
  },
  {
   "cell_type": "code",
   "execution_count": 58,
   "id": "b8a1fc77",
   "metadata": {},
   "outputs": [
    {
     "name": "stdout",
     "output_type": "stream",
     "text": [
      "hermione.txt\n",
      "hermione.jpg\n",
      "harry-hermione.gif\n",
      "harry.txt\n",
      "harry.jpg\n",
      "rm.sh\n"
     ]
    }
   ],
   "source": [
    "import os\n",
    "for image in os.listdir(\"example\"):\n",
    "    print(image)"
   ]
  },
  {
   "cell_type": "code",
   "execution_count": 59,
   "id": "a0002869",
   "metadata": {},
   "outputs": [
    {
     "name": "stdout",
     "output_type": "stream",
     "text": [
      "('example', 'harry.jpg')\n"
     ]
    }
   ],
   "source": [
    "image_path = \"example/harry.jpg\"\n",
    "print(os.path.split(image_path))"
   ]
  },
  {
   "cell_type": "code",
   "execution_count": 60,
   "id": "e73dc824",
   "metadata": {},
   "outputs": [
    {
     "data": {
      "text/plain": [
       "range(0, 2)"
      ]
     },
     "execution_count": 60,
     "metadata": {},
     "output_type": "execute_result"
    }
   ],
   "source": [
    "range(2)"
   ]
  },
  {
   "cell_type": "code",
   "execution_count": 61,
   "id": "4bf6424d",
   "metadata": {},
   "outputs": [
    {
     "name": "stdout",
     "output_type": "stream",
     "text": [
      "range(0, 2)\n"
     ]
    }
   ],
   "source": [
    "print(range(2))"
   ]
  },
  {
   "cell_type": "code",
   "execution_count": 62,
   "id": "e10790cf",
   "metadata": {},
   "outputs": [
    {
     "name": "stdout",
     "output_type": "stream",
     "text": [
      "0\n",
      "1\n"
     ]
    }
   ],
   "source": [
    "for i in range(2):\n",
    "    print(i)"
   ]
  },
  {
   "cell_type": "code",
   "execution_count": 17,
   "id": "5be69e7b",
   "metadata": {},
   "outputs": [
    {
     "ename": "IndexError",
     "evalue": "",
     "output_type": "error",
     "traceback": [
      "\u001b[0;31m---------------------------------------------------------------------------\u001b[0m",
      "\u001b[0;31mIndexError\u001b[0m                                Traceback (most recent call last)",
      "Cell \u001b[0;32mIn[17], line 1\u001b[0m\n\u001b[0;32m----> 1\u001b[0m \u001b[38;5;28mprint\u001b[39m(dets[\u001b[38;5;241m1\u001b[39m])\n",
      "\u001b[0;31mIndexError\u001b[0m: "
     ]
    }
   ],
   "source": []
  }
 ],
 "metadata": {
  "kernelspec": {
   "display_name": "Python 3 (ipykernel)",
   "language": "python",
   "name": "python3"
  },
  "language_info": {
   "codemirror_mode": {
    "name": "ipython",
    "version": 3
   },
   "file_extension": ".py",
   "mimetype": "text/x-python",
   "name": "python",
   "nbconvert_exporter": "python",
   "pygments_lexer": "ipython3",
   "version": "3.11.3"
  }
 },
 "nbformat": 4,
 "nbformat_minor": 5
}
