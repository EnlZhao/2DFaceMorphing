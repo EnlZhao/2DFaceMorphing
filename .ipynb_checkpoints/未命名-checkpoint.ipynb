{
 "cells": [
  {
   "cell_type": "code",
   "execution_count": 2,
   "id": "b2235891",
   "metadata": {},
   "outputs": [],
   "source": [
    "import dlib\n",
    "import cv2\n",
    "detector = dlib.get_frontal_face_detector()\n",
    "predictor = dlib.shape_predictor(\"code/shape_predictor_68_face_landmarks.dat\")\n",
    "img_path = \"example/harry.jpg\"\n",
    "img = cv2.imread(img_path)"
   ]
  },
  {
   "cell_type": "code",
   "execution_count": 3,
   "id": "d36a06a9",
   "metadata": {},
   "outputs": [],
   "source": [
    "dets = detector(img, 1)"
   ]
  },
  {
   "cell_type": "code",
   "execution_count": 5,
   "id": "a8d651d8",
   "metadata": {},
   "outputs": [
    {
     "name": "stdout",
     "output_type": "stream",
     "text": [
      "rectangles[[(860, 415) (1083, 638)]]\n"
     ]
    }
   ],
   "source": [
    "print(dets)"
   ]
  },
  {
   "cell_type": "code",
   "execution_count": 6,
   "id": "72418f31",
   "metadata": {},
   "outputs": [],
   "source": [
    "item = predictor(img, dets[0]).parts()"
   ]
  },
  {
   "cell_type": "code",
   "execution_count": 15,
   "id": "18e16234",
   "metadata": {},
   "outputs": [
    {
     "name": "stdout",
     "output_type": "stream",
     "text": [
      "[(860, 415) (1083, 638)]\n",
      "\n",
      "\n"
     ]
    }
   ],
   "source": [
    "for detection in dets:\n",
    "    print(detection)\n",
    "    print(\"\\n\")\n",
    "#     try:\n",
    "#         face_landmarks = [(item.x, item.y) for item in self.predictor(img, detection).parts()]\n",
    "        \n",
    "#         yield face_landmarks\n",
    "#     except:\n",
    "#         print(\"\\033[1;41mException in get_landmarks()!\\033[0m\")"
   ]
  },
  {
   "cell_type": "code",
   "execution_count": 19,
   "id": "93a64376",
   "metadata": {},
   "outputs": [
    {
     "name": "stdout",
     "output_type": "stream",
     "text": [
      "rectangles[[(860, 415) (1083, 638)]]\n",
      "[(860, 415) (1083, 638)]\n"
     ]
    }
   ],
   "source": [
    "print(type(dets))\n",
    "print(type(dets[0]))"
   ]
  },
  {
   "cell_type": "code",
   "execution_count": null,
   "id": "9cc3eead",
   "metadata": {},
   "outputs": [],
   "source": []
  },
  {
   "cell_type": "code",
   "execution_count": 17,
   "id": "0c4484fe",
   "metadata": {},
   "outputs": [
    {
     "ename": "IndexError",
     "evalue": "",
     "output_type": "error",
     "traceback": [
      "\u001b[0;31m---------------------------------------------------------------------------\u001b[0m",
      "\u001b[0;31mIndexError\u001b[0m                                Traceback (most recent call last)",
      "Cell \u001b[0;32mIn[17], line 1\u001b[0m\n\u001b[0;32m----> 1\u001b[0m \u001b[38;5;28mprint\u001b[39m(dets[\u001b[38;5;241m1\u001b[39m])\n",
      "\u001b[0;31mIndexError\u001b[0m: "
     ]
    }
   ],
   "source": []
  }
 ],
 "metadata": {
  "kernelspec": {
   "display_name": "Python 3 (ipykernel)",
   "language": "python",
   "name": "python3"
  },
  "language_info": {
   "codemirror_mode": {
    "name": "ipython",
    "version": 3
   },
   "file_extension": ".py",
   "mimetype": "text/x-python",
   "name": "python",
   "nbconvert_exporter": "python",
   "pygments_lexer": "ipython3",
   "version": "3.11.3"
  }
 },
 "nbformat": 4,
 "nbformat_minor": 5
}
